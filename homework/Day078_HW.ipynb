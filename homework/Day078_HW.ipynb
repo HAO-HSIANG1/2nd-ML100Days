{
 "cells": [
  {
   "cell_type": "markdown",
   "metadata": {},
   "source": [
    "## Work\n",
    "1. 請嘗試將 preproc_x 替換成以每筆資料的 min/max 進行標準化至 -1 ~ 1 間，再進行訓練\n",
    "2. 請嘗試將 mlp 疊更深 (e.g 5~10 層)，進行訓練後觀察 learning curve 的走勢\n",
    "3. (optional) 請改用 GPU 進行訓練 (如果你有 GPU 的話)，比較使用 CPU 與 GPU 的訓練速度"
   ]
  },
  {
   "cell_type": "code",
   "execution_count": 1,
   "metadata": {},
   "outputs": [],
   "source": [
    "## \n",
    "\"\"\"\n",
    "Your code here (optional)\n",
    "確認硬體資源\n",
    "\"\"\"\n"
   ]
  },
  {
   "cell_type": "code",
   "execution_count": 1,
   "metadata": {},
   "outputs": [
    {
     "name": "stderr",
     "output_type": "stream",
     "text": [
      "Using TensorFlow backend.\n"
     ]
    }
   ],
   "source": [
    "import os\n",
    "import keras\n",
    "from sklearn import preprocessing\n",
    "# 請嘗試設定 GPU：os.environ\n"
   ]
  },
  {
   "cell_type": "code",
   "execution_count": 2,
   "metadata": {},
   "outputs": [],
   "source": [
    "train, test = keras.datasets.cifar10.load_data()"
   ]
  },
  {
   "cell_type": "code",
   "execution_count": 19,
   "metadata": {},
   "outputs": [],
   "source": [
    "## 資料前處理\n",
    "\"\"\"\n",
    "Your code here\n",
    "\"\"\"\n",
    "def preproc_x(x, flatten = True):\n",
    "    #min_max_scaler = preprocessing.MinMaxScaler(feature_range = (-1,1))\n",
    "    #x = min_max_scaler.fit_transform(x)\n",
    "    x = (x-x.mean())/(x.max()-x.min())\n",
    "    if flatten:\n",
    "        x = x.reshape((len(x), -1))\n",
    "    return x\n",
    "def preproc_y(y, num_classes=10):\n",
    "    if y.shape[-1]==1:\n",
    "        y= keras.utils.to_categorical(y, num_classes)\n",
    "    return y"
   ]
  },
  {
   "cell_type": "code",
   "execution_count": 20,
   "metadata": {},
   "outputs": [],
   "source": [
    "x_train, y_train = train\n",
    "x_test, y_test = test\n",
    "\n",
    "# Preproc the inputs\n",
    "x_train = preproc_x(x_train)\n",
    "x_test = preproc_x(x_test)\n",
    "\n",
    "# Preprc the outputs\n",
    "y_train = preproc_y(y_train)\n",
    "y_test = preproc_y(y_test)"
   ]
  },
  {
   "cell_type": "code",
   "execution_count": 21,
   "metadata": {},
   "outputs": [
    {
     "name": "stdout",
     "output_type": "stream",
     "text": [
      "_________________________________________________________________\n",
      "Layer (type)                 Output Shape              Param #   \n",
      "=================================================================\n",
      "input_9 (InputLayer)         (None, 3072)              0         \n",
      "_________________________________________________________________\n",
      "hidden_layer1 (Dense)        (None, 512)               1573376   \n",
      "_________________________________________________________________\n",
      "hidden_layer2 (Dense)        (None, 256)               131328    \n",
      "_________________________________________________________________\n",
      "hidden_layer3 (Dense)        (None, 128)               32896     \n",
      "_________________________________________________________________\n",
      "output (Dense)               (None, 10)                1290      \n",
      "=================================================================\n",
      "Total params: 1,738,890\n",
      "Trainable params: 1,738,890\n",
      "Non-trainable params: 0\n",
      "_________________________________________________________________\n",
      "3072\n",
      "(3072,)\n"
     ]
    }
   ],
   "source": [
    "\"\"\"Code Here\n",
    "建立你的神經網路\n",
    "\"\"\"\n",
    "def build_mlp(input_shape, output_units = 10, num_neurons=[512,256,128]):\n",
    "    input_layer= keras.layers.Input(input_shape)\n",
    "    for i, n_units in enumerate(num_neurons):\n",
    "        if i == 0:\n",
    "            x = keras.layers.Dense(units= n_units, activation= 'relu', name= 'hidden_layer'+str(i+1))(input_layer)\n",
    "        else:\n",
    "            x = keras.layers.Dense(units= n_units, activation= 'relu', name= 'hidden_layer'+str(i+1))(x)\n",
    "    out = keras.layers.Dense(units = output_units, activation='softmax', name='output')(x)\n",
    "    model = keras.models.Model(inputs = [input_layer], outputs=[out])\n",
    "    return model\n",
    "\n",
    "model = build_mlp(input_shape=x_train.shape[1:])\n",
    "model.summary()\n",
    "print (x_train.shape[-1])\n",
    "print (x_train.shape[1:])"
   ]
  },
  {
   "cell_type": "code",
   "execution_count": 22,
   "metadata": {},
   "outputs": [],
   "source": [
    "## 超參數設定\n",
    "LEARNING_RATE = 0.001\n",
    "EPOCHS = 100\n",
    "BATCH_SIZE = 256"
   ]
  },
  {
   "cell_type": "code",
   "execution_count": 23,
   "metadata": {},
   "outputs": [],
   "source": [
    "optimizer = keras.optimizers.Adam(lr=LEARNING_RATE)\n",
    "model.compile(loss=\"categorical_crossentropy\", metrics=[\"accuracy\"], optimizer=optimizer)"
   ]
  },
  {
   "cell_type": "code",
   "execution_count": 24,
   "metadata": {},
   "outputs": [
    {
     "name": "stderr",
     "output_type": "stream",
     "text": [
      "W1012 21:16:08.983575  1364 deprecation.py:323] From C:\\Users\\HAO\\Anaconda3\\lib\\site-packages\\tensorflow\\python\\ops\\math_grad.py:1250: add_dispatch_support.<locals>.wrapper (from tensorflow.python.ops.array_ops) is deprecated and will be removed in a future version.\n",
      "Instructions for updating:\n",
      "Use tf.where in 2.0, which has the same broadcast rule as np.where\n",
      "W1012 21:16:09.067147  1364 deprecation_wrapper.py:119] From C:\\Users\\HAO\\Anaconda3\\lib\\site-packages\\keras\\backend\\tensorflow_backend.py:986: The name tf.assign_add is deprecated. Please use tf.compat.v1.assign_add instead.\n",
      "\n"
     ]
    },
    {
     "name": "stdout",
     "output_type": "stream",
     "text": [
      "Train on 50000 samples, validate on 10000 samples\n",
      "Epoch 1/100\n",
      "50000/50000 [==============================] - 17s 342us/step - loss: 1.6501 - acc: 0.4164 - val_loss: 1.5015 - val_acc: 0.4689\n",
      "Epoch 2/100\n",
      "50000/50000 [==============================] - 18s 366us/step - loss: 1.4142 - acc: 0.5046 - val_loss: 1.4054 - val_acc: 0.5058\n",
      "Epoch 3/100\n",
      "50000/50000 [==============================] - 20s 405us/step - loss: 1.2953 - acc: 0.5435 - val_loss: 1.3834 - val_acc: 0.5156\n",
      "Epoch 4/100\n",
      "50000/50000 [==============================] - 19s 388us/step - loss: 1.1909 - acc: 0.5836 - val_loss: 1.3500 - val_acc: 0.5237\n",
      "Epoch 5/100\n",
      "50000/50000 [==============================] - 17s 334us/step - loss: 1.1053 - acc: 0.6138 - val_loss: 1.3363 - val_acc: 0.5346\n",
      "Epoch 6/100\n",
      "50000/50000 [==============================] - 17s 342us/step - loss: 1.0226 - acc: 0.6400 - val_loss: 1.3308 - val_acc: 0.5490\n",
      "Epoch 7/100\n",
      "50000/50000 [==============================] - 18s 359us/step - loss: 0.9376 - acc: 0.6708 - val_loss: 1.3825 - val_acc: 0.5370\n",
      "Epoch 8/100\n",
      "50000/50000 [==============================] - 15s 298us/step - loss: 0.8681 - acc: 0.6965 - val_loss: 1.4295 - val_acc: 0.5459\n",
      "Epoch 9/100\n",
      "50000/50000 [==============================] - 15s 303us/step - loss: 0.7819 - acc: 0.7260 - val_loss: 1.4372 - val_acc: 0.5411\n",
      "Epoch 10/100\n",
      "50000/50000 [==============================] - 16s 312us/step - loss: 0.7070 - acc: 0.7521 - val_loss: 1.4613 - val_acc: 0.5434\n",
      "Epoch 11/100\n",
      "50000/50000 [==============================] - 16s 316us/step - loss: 0.6330 - acc: 0.7798 - val_loss: 1.5532 - val_acc: 0.5375\n",
      "Epoch 12/100\n",
      "50000/50000 [==============================] - 18s 369us/step - loss: 0.5666 - acc: 0.8028 - val_loss: 1.6240 - val_acc: 0.5367\n",
      "Epoch 13/100\n",
      "50000/50000 [==============================] - 18s 363us/step - loss: 0.5099 - acc: 0.8222 - val_loss: 1.7016 - val_acc: 0.5462\n",
      "Epoch 14/100\n",
      "50000/50000 [==============================] - 17s 346us/step - loss: 0.4466 - acc: 0.8454 - val_loss: 1.8010 - val_acc: 0.5387\n",
      "Epoch 15/100\n",
      "50000/50000 [==============================] - 16s 327us/step - loss: 0.3943 - acc: 0.8636 - val_loss: 1.8838 - val_acc: 0.5423\n",
      "Epoch 16/100\n",
      "50000/50000 [==============================] - 17s 344us/step - loss: 0.3505 - acc: 0.8799 - val_loss: 1.9978 - val_acc: 0.5477\n",
      "Epoch 17/100\n",
      "50000/50000 [==============================] - 18s 357us/step - loss: 0.3210 - acc: 0.8891 - val_loss: 2.0970 - val_acc: 0.5371\n",
      "Epoch 18/100\n",
      "50000/50000 [==============================] - 16s 327us/step - loss: 0.2876 - acc: 0.9003 - val_loss: 2.1642 - val_acc: 0.5439\n",
      "Epoch 19/100\n",
      "50000/50000 [==============================] - 18s 364us/step - loss: 0.2545 - acc: 0.9111 - val_loss: 2.3237 - val_acc: 0.5406\n",
      "Epoch 20/100\n",
      "50000/50000 [==============================] - 18s 364us/step - loss: 0.2310 - acc: 0.9206 - val_loss: 2.3945 - val_acc: 0.5394\n",
      "Epoch 21/100\n",
      "50000/50000 [==============================] - 18s 363us/step - loss: 0.2142 - acc: 0.9271 - val_loss: 2.4754 - val_acc: 0.5385\n",
      "Epoch 22/100\n",
      "50000/50000 [==============================] - 16s 329us/step - loss: 0.2029 - acc: 0.9304 - val_loss: 2.5288 - val_acc: 0.5404\n",
      "Epoch 23/100\n",
      "50000/50000 [==============================] - 18s 369us/step - loss: 0.1952 - acc: 0.9331 - val_loss: 2.6083 - val_acc: 0.5461 1s - loss: 0.1932 \n",
      "Epoch 24/100\n",
      "50000/50000 [==============================] - 19s 375us/step - loss: 0.1671 - acc: 0.9425 - val_loss: 2.7481 - val_acc: 0.5414\n",
      "Epoch 25/100\n",
      "50000/50000 [==============================] - 20s 402us/step - loss: 0.1566 - acc: 0.9462 - val_loss: 2.8505 - val_acc: 0.5403\n",
      "Epoch 26/100\n",
      "50000/50000 [==============================] - 18s 365us/step - loss: 0.1774 - acc: 0.9390 - val_loss: 2.8281 - val_acc: 0.5275\n",
      "Epoch 27/100\n",
      "50000/50000 [==============================] - 18s 361us/step - loss: 0.1688 - acc: 0.9417 - val_loss: 2.9112 - val_acc: 0.5404\n",
      "Epoch 28/100\n",
      "50000/50000 [==============================] - 19s 388us/step - loss: 0.1518 - acc: 0.9472 - val_loss: 2.9453 - val_acc: 0.5342\n",
      "Epoch 29/100\n",
      "50000/50000 [==============================] - 16s 326us/step - loss: 0.1295 - acc: 0.9549 - val_loss: 3.0147 - val_acc: 0.5377\n",
      "Epoch 30/100\n",
      "50000/50000 [==============================] - 16s 330us/step - loss: 0.1169 - acc: 0.9598 - val_loss: 3.1040 - val_acc: 0.5400\n",
      "Epoch 31/100\n",
      "50000/50000 [==============================] - 16s 319us/step - loss: 0.1373 - acc: 0.9525 - val_loss: 3.1516 - val_acc: 0.5372\n",
      "Epoch 32/100\n",
      "50000/50000 [==============================] - 17s 346us/step - loss: 0.1702 - acc: 0.9421 - val_loss: 3.1237 - val_acc: 0.5373\n",
      "Epoch 33/100\n",
      "50000/50000 [==============================] - 17s 348us/step - loss: 0.1231 - acc: 0.9575 - val_loss: 3.1696 - val_acc: 0.5364\n",
      "Epoch 34/100\n",
      "50000/50000 [==============================] - 16s 321us/step - loss: 0.1097 - acc: 0.9625 - val_loss: 3.1859 - val_acc: 0.5398\n",
      "Epoch 35/100\n",
      "50000/50000 [==============================] - 17s 340us/step - loss: 0.1046 - acc: 0.9645 - val_loss: 3.3264 - val_acc: 0.5373\n",
      "Epoch 36/100\n",
      "50000/50000 [==============================] - 17s 335us/step - loss: 0.1357 - acc: 0.9540 - val_loss: 3.2631 - val_acc: 0.5361\n",
      "Epoch 37/100\n",
      "50000/50000 [==============================] - 15s 301us/step - loss: 0.1258 - acc: 0.9586 - val_loss: 3.3737 - val_acc: 0.5337\n",
      "Epoch 38/100\n",
      "50000/50000 [==============================] - 15s 293us/step - loss: 0.1026 - acc: 0.9656 - val_loss: 3.4391 - val_acc: 0.5268\n",
      "Epoch 39/100\n",
      "50000/50000 [==============================] - 15s 292us/step - loss: 0.1198 - acc: 0.9601 - val_loss: 3.4237 - val_acc: 0.5394\n",
      "Epoch 40/100\n",
      "50000/50000 [==============================] - 16s 316us/step - loss: 0.0868 - acc: 0.9703 - val_loss: 3.4892 - val_acc: 0.5352\n",
      "Epoch 41/100\n",
      "50000/50000 [==============================] - 16s 329us/step - loss: 0.0972 - acc: 0.9675 - val_loss: 3.4927 - val_acc: 0.5368\n",
      "Epoch 42/100\n",
      "50000/50000 [==============================] - 16s 316us/step - loss: 0.1300 - acc: 0.9570 - val_loss: 3.5217 - val_acc: 0.5285\n",
      "Epoch 43/100\n",
      "50000/50000 [==============================] - 15s 302us/step - loss: 0.1084 - acc: 0.9641 - val_loss: 3.4728 - val_acc: 0.5355\n",
      "Epoch 44/100\n",
      "50000/50000 [==============================] - 19s 384us/step - loss: 0.1040 - acc: 0.9654 - val_loss: 3.5119 - val_acc: 0.5390\n",
      "Epoch 45/100\n",
      "50000/50000 [==============================] - 17s 343us/step - loss: 0.0907 - acc: 0.9704 - val_loss: 3.6436 - val_acc: 0.5340\n",
      "Epoch 46/100\n",
      "50000/50000 [==============================] - 16s 311us/step - loss: 0.0970 - acc: 0.9670 - val_loss: 3.5746 - val_acc: 0.5434\n",
      "Epoch 47/100\n",
      "50000/50000 [==============================] - 16s 321us/step - loss: 0.1015 - acc: 0.9663 - val_loss: 3.6764 - val_acc: 0.5375\n",
      "Epoch 48/100\n",
      "50000/50000 [==============================] - 16s 319us/step - loss: 0.0931 - acc: 0.9687 - val_loss: 3.6778 - val_acc: 0.5367\n",
      "Epoch 49/100\n",
      "50000/50000 [==============================] - 17s 337us/step - loss: 0.1146 - acc: 0.9624 - val_loss: 3.7083 - val_acc: 0.5335\n",
      "Epoch 50/100\n",
      "50000/50000 [==============================] - 16s 316us/step - loss: 0.0799 - acc: 0.9726 - val_loss: 3.7038 - val_acc: 0.5402\n",
      "Epoch 51/100\n",
      "50000/50000 [==============================] - 16s 320us/step - loss: 0.0658 - acc: 0.9781 - val_loss: 3.7862 - val_acc: 0.5394\n",
      "Epoch 52/100\n",
      "50000/50000 [==============================] - 16s 312us/step - loss: 0.0914 - acc: 0.9702 - val_loss: 3.7265 - val_acc: 0.5347\n",
      "Epoch 53/100\n",
      "50000/50000 [==============================] - 16s 314us/step - loss: 0.0866 - acc: 0.9711 - val_loss: 3.7893 - val_acc: 0.5310\n",
      "Epoch 54/100\n",
      "50000/50000 [==============================] - 20s 396us/step - loss: 0.1009 - acc: 0.9666 - val_loss: 3.8407 - val_acc: 0.5278\n",
      "Epoch 55/100\n",
      "50000/50000 [==============================] - 17s 344us/step - loss: 0.0904 - acc: 0.9697 - val_loss: 3.8540 - val_acc: 0.5371\n",
      "Epoch 56/100\n",
      "50000/50000 [==============================] - 15s 309us/step - loss: 0.1047 - acc: 0.9663 - val_loss: 3.8030 - val_acc: 0.5302\n",
      "Epoch 57/100\n",
      "50000/50000 [==============================] - 19s 378us/step - loss: 0.0933 - acc: 0.9700 - val_loss: 3.8924 - val_acc: 0.5336\n",
      "Epoch 58/100\n"
     ]
    },
    {
     "name": "stdout",
     "output_type": "stream",
     "text": [
      "50000/50000 [==============================] - 19s 378us/step - loss: 0.0728 - acc: 0.9758 - val_loss: 3.9302 - val_acc: 0.5386\n",
      "Epoch 59/100\n",
      "50000/50000 [==============================] - 15s 302us/step - loss: 0.0890 - acc: 0.9722 - val_loss: 3.9680 - val_acc: 0.5361\n",
      "Epoch 60/100\n",
      "50000/50000 [==============================] - 18s 352us/step - loss: 0.1025 - acc: 0.9663 - val_loss: 3.8944 - val_acc: 0.5334\n",
      "Epoch 61/100\n",
      "50000/50000 [==============================] - 17s 339us/step - loss: 0.0641 - acc: 0.9793 - val_loss: 3.8981 - val_acc: 0.5414\n",
      "Epoch 62/100\n",
      "50000/50000 [==============================] - 15s 295us/step - loss: 0.0702 - acc: 0.9772 - val_loss: 3.9073 - val_acc: 0.5331\n",
      "Epoch 63/100\n",
      "50000/50000 [==============================] - 16s 314us/step - loss: 0.0943 - acc: 0.9704 - val_loss: 3.9306 - val_acc: 0.5367\n",
      "Epoch 64/100\n",
      "50000/50000 [==============================] - 20s 405us/step - loss: 0.0716 - acc: 0.9767 - val_loss: 3.9842 - val_acc: 0.5370\n",
      "Epoch 65/100\n",
      "50000/50000 [==============================] - 15s 304us/step - loss: 0.0757 - acc: 0.9754 - val_loss: 4.0333 - val_acc: 0.5376\n",
      "Epoch 66/100\n",
      "50000/50000 [==============================] - 15s 307us/step - loss: 0.0630 - acc: 0.9788 - val_loss: 4.0270 - val_acc: 0.5371\n",
      "Epoch 67/100\n",
      "50000/50000 [==============================] - 17s 338us/step - loss: 0.0736 - acc: 0.9766 - val_loss: 4.1029 - val_acc: 0.5320\n",
      "Epoch 68/100\n",
      "50000/50000 [==============================] - 15s 308us/step - loss: 0.0838 - acc: 0.9731 - val_loss: 4.0566 - val_acc: 0.5361\n",
      "Epoch 69/100\n",
      "50000/50000 [==============================] - 15s 305us/step - loss: 0.0814 - acc: 0.9743 - val_loss: 3.9833 - val_acc: 0.5401\n",
      "Epoch 70/100\n",
      "50000/50000 [==============================] - 18s 362us/step - loss: 0.0950 - acc: 0.9704 - val_loss: 4.0278 - val_acc: 0.5363\n",
      "Epoch 71/100\n",
      "50000/50000 [==============================] - 15s 298us/step - loss: 0.0728 - acc: 0.9774 - val_loss: 4.0685 - val_acc: 0.5376\n",
      "Epoch 72/100\n",
      "50000/50000 [==============================] - 17s 340us/step - loss: 0.0757 - acc: 0.9759 - val_loss: 4.1043 - val_acc: 0.5345\n",
      "Epoch 73/100\n",
      "50000/50000 [==============================] - 17s 342us/step - loss: 0.0601 - acc: 0.9811 - val_loss: 4.1075 - val_acc: 0.5372\n",
      "Epoch 74/100\n",
      "50000/50000 [==============================] - 19s 379us/step - loss: 0.0869 - acc: 0.9730 - val_loss: 4.0274 - val_acc: 0.5364\n",
      "Epoch 75/100\n",
      "50000/50000 [==============================] - 17s 344us/step - loss: 0.0744 - acc: 0.9762 - val_loss: 4.1095 - val_acc: 0.5361\n",
      "Epoch 76/100\n",
      "50000/50000 [==============================] - 15s 309us/step - loss: 0.0692 - acc: 0.9773 - val_loss: 4.0405 - val_acc: 0.5364\n",
      "Epoch 77/100\n",
      "50000/50000 [==============================] - 16s 316us/step - loss: 0.0672 - acc: 0.9789 - val_loss: 4.1011 - val_acc: 0.5417\n",
      "Epoch 78/100\n",
      "50000/50000 [==============================] - 16s 315us/step - loss: 0.0699 - acc: 0.9775 - val_loss: 4.1646 - val_acc: 0.5393\n",
      "Epoch 79/100\n",
      "50000/50000 [==============================] - 16s 329us/step - loss: 0.0669 - acc: 0.9783 - val_loss: 4.1226 - val_acc: 0.5368\n",
      "Epoch 80/100\n",
      "50000/50000 [==============================] - 15s 302us/step - loss: 0.0757 - acc: 0.9753 - val_loss: 4.2027 - val_acc: 0.5400\n",
      "Epoch 81/100\n",
      "50000/50000 [==============================] - 16s 315us/step - loss: 0.0634 - acc: 0.9797 - val_loss: 4.1089 - val_acc: 0.5336\n",
      "Epoch 82/100\n",
      "50000/50000 [==============================] - 16s 319us/step - loss: 0.0770 - acc: 0.9758 - val_loss: 4.1942 - val_acc: 0.5322\n",
      "Epoch 83/100\n",
      "50000/50000 [==============================] - 15s 298us/step - loss: 0.0509 - acc: 0.9832 - val_loss: 4.2325 - val_acc: 0.5303\n",
      "Epoch 84/100\n",
      "50000/50000 [==============================] - 21s 424us/step - loss: 0.0729 - acc: 0.9780 - val_loss: 4.2976 - val_acc: 0.5267\n",
      "Epoch 85/100\n",
      "50000/50000 [==============================] - 20s 405us/step - loss: 0.0953 - acc: 0.9710 - val_loss: 4.2666 - val_acc: 0.5289\n",
      "Epoch 86/100\n",
      "50000/50000 [==============================] - 19s 381us/step - loss: 0.0690 - acc: 0.9786 - val_loss: 4.1642 - val_acc: 0.5378\n",
      "Epoch 87/100\n",
      "50000/50000 [==============================] - 16s 328us/step - loss: 0.0484 - acc: 0.9841 - val_loss: 4.1792 - val_acc: 0.5426\n",
      "Epoch 88/100\n",
      "50000/50000 [==============================] - 16s 318us/step - loss: 0.0651 - acc: 0.9798 - val_loss: 4.2263 - val_acc: 0.5346\n",
      "Epoch 89/100\n",
      "50000/50000 [==============================] - 17s 335us/step - loss: 0.0580 - acc: 0.9812 - val_loss: 4.2539 - val_acc: 0.5344\n",
      "Epoch 90/100\n",
      "50000/50000 [==============================] - 20s 399us/step - loss: 0.0583 - acc: 0.9816 - val_loss: 4.3982 - val_acc: 0.5362\n",
      "Epoch 91/100\n",
      "50000/50000 [==============================] - 18s 352us/step - loss: 0.0710 - acc: 0.9781 - val_loss: 4.4033 - val_acc: 0.5345\n",
      "Epoch 92/100\n",
      "50000/50000 [==============================] - 16s 318us/step - loss: 0.0627 - acc: 0.9799 - val_loss: 4.3256 - val_acc: 0.5351\n",
      "Epoch 93/100\n",
      "50000/50000 [==============================] - 16s 317us/step - loss: 0.0668 - acc: 0.9790 - val_loss: 4.2613 - val_acc: 0.5334\n",
      "Epoch 94/100\n",
      "50000/50000 [==============================] - 17s 333us/step - loss: 0.0681 - acc: 0.9787 - val_loss: 4.2494 - val_acc: 0.5387\n",
      "Epoch 95/100\n",
      "50000/50000 [==============================] - 16s 317us/step - loss: 0.0773 - acc: 0.9754 - val_loss: 4.2795 - val_acc: 0.5378\n",
      "Epoch 96/100\n",
      "50000/50000 [==============================] - 16s 317us/step - loss: 0.0626 - acc: 0.9801 - val_loss: 4.3499 - val_acc: 0.5359\n",
      "Epoch 97/100\n",
      "50000/50000 [==============================] - 16s 320us/step - loss: 0.0350 - acc: 0.9882 - val_loss: 4.3980 - val_acc: 0.5360\n",
      "Epoch 98/100\n",
      "50000/50000 [==============================] - 16s 315us/step - loss: 0.0404 - acc: 0.9870 - val_loss: 4.3891 - val_acc: 0.5384\n",
      "Epoch 99/100\n",
      "50000/50000 [==============================] - 16s 317us/step - loss: 0.0500 - acc: 0.9838 - val_loss: 4.4002 - val_acc: 0.5319\n",
      "Epoch 100/100\n",
      "50000/50000 [==============================] - 16s 316us/step - loss: 0.0700 - acc: 0.9785 - val_loss: 4.2567 - val_acc: 0.5275\n"
     ]
    },
    {
     "data": {
      "text/plain": [
       "<keras.callbacks.History at 0x24992145ef0>"
      ]
     },
     "execution_count": 24,
     "metadata": {},
     "output_type": "execute_result"
    }
   ],
   "source": [
    "model.fit(x_train, y_train, \n",
    "          epochs=EPOCHS, \n",
    "          batch_size=BATCH_SIZE, \n",
    "          validation_data=(x_test, y_test), \n",
    "          shuffle=True)"
   ]
  },
  {
   "cell_type": "code",
   "execution_count": 26,
   "metadata": {},
   "outputs": [
    {
     "data": {
      "image/png": "[encoded data removed]",
      "text/plain": [
       "<Figure size 432x288 with 1 Axes>"
      ]
     },
     "metadata": {
      "needs_background": "light"
     },
     "output_type": "display_data"
    },
    {
     "data": {
      "image/png": "[encoded data removed]",
      "text/plain": [
       "<Figure size 432x288 with 1 Axes>"
      ]
     },
     "metadata": {
      "needs_background": "light"
     },
     "output_type": "display_data"
    }
   ],
   "source": [
    "import matplotlib.pyplot as plt\n",
    "\n",
    "\n",
    "train_loss = model.history.history[\"loss\"]\n",
    "valid_loss = model.history.history[\"val_loss\"]\n",
    "\n",
    "train_acc = model.history.history[\"acc\"]\n",
    "valid_acc = model.history.history[\"val_acc\"]\n",
    "\n",
    "plt.plot(range(len(train_loss)), train_loss, label=\"train loss\")\n",
    "plt.plot(range(len(valid_loss)), valid_loss, label=\"valid loss\")\n",
    "plt.legend()\n",
    "plt.title(\"Loss\")\n",
    "plt.show()\n",
    "\n",
    "plt.plot(range(len(train_acc)), train_acc, label=\"train accuracy\")\n",
    "plt.plot(range(len(valid_acc)), valid_acc, label=\"valid accuracy\")\n",
    "plt.legend()\n",
    "plt.title(\"Accuracy\")\n",
    "plt.show()"
   ]
  },
  {
   "cell_type": "code",
   "execution_count": null,
   "metadata": {},
   "outputs": [],
   "source": []
  }
 ],
 "metadata": {
  "kernelspec": {
   "display_name": "Python 3",
   "language": "python",
   "name": "python3"
  },
  "language_info": {
   "codemirror_mode": {
    "name": "ipython",
    "version": 3
   },
   "file_extension": ".py",
   "mimetype": "text/x-python",
   "name": "python",
   "nbconvert_exporter": "python",
   "pygments_lexer": "ipython3",
   "version": "3.7.3"
  }
 },
 "nbformat": 4,
 "nbformat_minor": 2
}
