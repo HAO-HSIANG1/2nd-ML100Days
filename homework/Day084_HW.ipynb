{
 "cells": [
  {
   "cell_type": "markdown",
   "metadata": {},
   "source": [
    "## Work\n",
    "### 請結合前面的知識與程式碼，比較不同的 regularization 的組合對訓練的結果與影響：如 dropout, regularizers, batch-normalization 等"
   ]
  },
  {
   "cell_type": "code",
   "execution_count": 1,
   "metadata": {},
   "outputs": [],
   "source": [
    "import os\n",
    "import keras\n",
    "import itertools\n",
    "# Disable GPU\n",
    "os.environ[\"CUDA_VISIBLE_DEVICES\"] = \"\""
   ]
  },
  {
   "cell_type": "code",
   "execution_count": 2,
   "metadata": {},
   "outputs": [],
   "source": [
    "train, test = keras.datasets.cifar10.load_data()"
   ]
  },
  {
   "cell_type": "code",
   "execution_count": 3,
   "metadata": {},
   "outputs": [],
   "source": [
    "## 資料前處理\n",
    "def preproc_x(x, flatten=True):\n",
    "    x = x / 255.\n",
    "    if flatten:\n",
    "        x = x.reshape((len(x), -1))\n",
    "    return x\n",
    "\n",
    "def preproc_y(y, num_classes=10):\n",
    "    if y.shape[-1] == 1:\n",
    "        y = keras.utils.to_categorical(y, num_classes)\n",
    "    return y    "
   ]
  },
  {
   "cell_type": "code",
   "execution_count": 4,
   "metadata": {},
   "outputs": [],
   "source": [
    "x_train, y_train = train\n",
    "x_test, y_test = test\n",
    "\n",
    "# Preproc the inputs\n",
    "x_train = preproc_x(x_train)\n",
    "x_test = preproc_x(x_test)\n",
    "\n",
    "# Preprc the outputs\n",
    "y_train = preproc_y(y_train)\n",
    "y_test = preproc_y(y_test)"
   ]
  },
  {
   "cell_type": "code",
   "execution_count": 15,
   "metadata": {},
   "outputs": [],
   "source": [
    "from keras.regularizers import l1_l2\n",
    "from keras.layers import Dropout\n",
    "from keras.layers import BatchNormalization\n",
    "def build_mlp(input_shape, output_units=10, num_neurons=[512, 256, 128], l1_ratio=0.0, l2_ratio=0.0, drp_ratio=0.0):\n",
    "    \"\"\"Code Here\n",
    "    建立你的神經網路\n",
    "    \"\"\"\n",
    "    input_layer = keras.layers.Input(input_shape)\n",
    "    BN =BatchNormalization()(input_layer)\n",
    "    for i, n_units in enumerate(num_neurons):\n",
    "        if i == 0:\n",
    "            x = keras.layers.Dense(units=n_units, \n",
    "                                   activation=\"relu\", \n",
    "                                   name=\"hidden_layer\"+str(i+1), \n",
    "                                   kernel_regularizer=l1_l2(l1=l1_ratio, l2=l2_ratio))(BN)\n",
    "            x = Dropout(drp_ratio)(x)\n",
    "        else:\n",
    "            x = keras.layers.Dense(units=n_units, \n",
    "                                   activation=\"relu\", \n",
    "                                   name=\"hidden_layer\"+str(i+1),\n",
    "                                   kernel_regularizer=l1_l2(l1=l1_ratio, l2=l2_ratio))(x)\n",
    "            x = Dropout(drp_ratio)(x)\n",
    "    \n",
    "    out = keras.layers.Dense(units=output_units, activation=\"softmax\", name=\"output\")(x)\n",
    "    \n",
    "    model = keras.models.Model(inputs=[input_layer], outputs=[out])\n",
    "    return model\n"
   ]
  },
  {
   "cell_type": "code",
   "execution_count": 13,
   "metadata": {},
   "outputs": [],
   "source": [
    "\"\"\"Code Here\n",
    "設定超參數\n",
    "\"\"\"\n",
    "l1_ratio=1e-12\n",
    "l2_ratio=1e-12\n",
    "drp_ratio=0.2\n",
    "LEARNING_RATE=1e-2\n",
    "MOMENTUM=0.95\n",
    "EPOCHS=30\n",
    "BATCH_SIZE= 256"
   ]
  },
  {
   "cell_type": "code",
   "execution_count": 16,
   "metadata": {
    "scrolled": true
   },
   "outputs": [
    {
     "name": "stderr",
     "output_type": "stream",
     "text": [
      "W1106 15:28:41.339483  1612 deprecation.py:506] From C:\\Users\\HAO\\Anaconda3\\lib\\site-packages\\keras\\backend\\tensorflow_backend.py:3445: calling dropout (from tensorflow.python.ops.nn_ops) with keep_prob is deprecated and will be removed in a future version.\n",
      "Instructions for updating:\n",
      "Please use `rate` instead of `keep_prob`. Rate should be set to `rate = 1 - keep_prob`.\n",
      "W1106 15:28:41.473865  1612 deprecation_wrapper.py:119] From C:\\Users\\HAO\\Anaconda3\\lib\\site-packages\\keras\\optimizers.py:790: The name tf.train.Optimizer is deprecated. Please use tf.compat.v1.train.Optimizer instead.\n",
      "\n",
      "W1106 15:28:41.484864  1612 deprecation_wrapper.py:119] From C:\\Users\\HAO\\Anaconda3\\lib\\site-packages\\keras\\backend\\tensorflow_backend.py:3295: The name tf.log is deprecated. Please use tf.math.log instead.\n",
      "\n",
      "W1106 15:28:42.129934  1612 deprecation.py:323] From C:\\Users\\HAO\\Anaconda3\\lib\\site-packages\\tensorflow\\python\\ops\\math_grad.py:1250: add_dispatch_support.<locals>.wrapper (from tensorflow.python.ops.array_ops) is deprecated and will be removed in a future version.\n",
      "Instructions for updating:\n",
      "Use tf.where in 2.0, which has the same broadcast rule as np.where\n"
     ]
    },
    {
     "name": "stdout",
     "output_type": "stream",
     "text": [
      "Train on 50000 samples, validate on 10000 samples\n",
      "Epoch 1/30\n",
      "50000/50000 [==============================] - 36s 726us/step - loss: 1.8537 - acc: 0.3388 - val_loss: 1.5860 - val_acc: 0.4408\n",
      "Epoch 2/30\n",
      "50000/50000 [==============================] - 28s 563us/step - loss: 1.6188 - acc: 0.4261 - val_loss: 1.4936 - val_acc: 0.4741\n",
      "Epoch 3/30\n",
      "50000/50000 [==============================] - 25s 493us/step - loss: 1.5357 - acc: 0.4541 - val_loss: 1.4342 - val_acc: 0.4922\n",
      "Epoch 4/30\n",
      "50000/50000 [==============================] - 23s 468us/step - loss: 1.4714 - acc: 0.4768 - val_loss: 1.4124 - val_acc: 0.5053\n",
      "Epoch 5/30\n",
      "50000/50000 [==============================] - 23s 460us/step - loss: 1.4159 - acc: 0.4995 - val_loss: 1.3776 - val_acc: 0.5098\n",
      "Epoch 6/30\n",
      "50000/50000 [==============================] - 23s 465us/step - loss: 1.3781 - acc: 0.5119 - val_loss: 1.3444 - val_acc: 0.5222\n",
      "Epoch 7/30\n",
      "50000/50000 [==============================] - 23s 459us/step - loss: 1.3340 - acc: 0.5298 - val_loss: 1.3496 - val_acc: 0.5201\n",
      "Epoch 8/30\n",
      "50000/50000 [==============================] - 23s 464us/step - loss: 1.3032 - acc: 0.5387 - val_loss: 1.3243 - val_acc: 0.5260\n",
      "Epoch 9/30\n",
      "50000/50000 [==============================] - 23s 457us/step - loss: 1.2733 - acc: 0.5446 - val_loss: 1.3132 - val_acc: 0.5373\n",
      "Epoch 10/30\n",
      "50000/50000 [==============================] - 23s 461us/step - loss: 1.2463 - acc: 0.5554 - val_loss: 1.2979 - val_acc: 0.5388\n",
      "Epoch 11/30\n",
      "50000/50000 [==============================] - 23s 462us/step - loss: 1.2128 - acc: 0.5660 - val_loss: 1.2845 - val_acc: 0.5475\n",
      "Epoch 12/30\n",
      "50000/50000 [==============================] - 23s 459us/step - loss: 1.1870 - acc: 0.5764 - val_loss: 1.2841 - val_acc: 0.5483\n",
      "Epoch 13/30\n",
      "50000/50000 [==============================] - 23s 465us/step - loss: 1.1620 - acc: 0.5859 - val_loss: 1.2750 - val_acc: 0.5519\n",
      "Epoch 14/30\n",
      "50000/50000 [==============================] - 24s 471us/step - loss: 1.1343 - acc: 0.5962 - val_loss: 1.2682 - val_acc: 0.5538\n",
      "Epoch 15/30\n",
      "50000/50000 [==============================] - 24s 477us/step - loss: 1.1132 - acc: 0.6012 - val_loss: 1.2701 - val_acc: 0.5519\n",
      "Epoch 16/30\n",
      "50000/50000 [==============================] - 23s 458us/step - loss: 1.0898 - acc: 0.6098 - val_loss: 1.2564 - val_acc: 0.5572\n",
      "Epoch 17/30\n",
      "50000/50000 [==============================] - 23s 464us/step - loss: 1.0661 - acc: 0.6172 - val_loss: 1.2677 - val_acc: 0.5564\n",
      "Epoch 18/30\n",
      "50000/50000 [==============================] - 23s 457us/step - loss: 1.0448 - acc: 0.6259 - val_loss: 1.2659 - val_acc: 0.5560\n",
      "Epoch 19/30\n",
      "50000/50000 [==============================] - 23s 463us/step - loss: 1.0193 - acc: 0.6356 - val_loss: 1.2839 - val_acc: 0.5574\n",
      "Epoch 20/30\n",
      "50000/50000 [==============================] - 23s 461us/step - loss: 0.9996 - acc: 0.6407 - val_loss: 1.2606 - val_acc: 0.5622\n",
      "Epoch 21/30\n",
      "50000/50000 [==============================] - 23s 460us/step - loss: 0.9808 - acc: 0.6472 - val_loss: 1.2658 - val_acc: 0.5566\n",
      "Epoch 22/30\n",
      "50000/50000 [==============================] - 23s 466us/step - loss: 0.9626 - acc: 0.6585 - val_loss: 1.2643 - val_acc: 0.5614\n",
      "Epoch 23/30\n",
      "50000/50000 [==============================] - 23s 459us/step - loss: 0.9418 - acc: 0.6607 - val_loss: 1.2862 - val_acc: 0.5581\n",
      "Epoch 24/30\n",
      "50000/50000 [==============================] - 23s 470us/step - loss: 0.9214 - acc: 0.6689 - val_loss: 1.2660 - val_acc: 0.5618\n",
      "Epoch 25/30\n",
      "50000/50000 [==============================] - 23s 458us/step - loss: 0.8991 - acc: 0.6770 - val_loss: 1.2941 - val_acc: 0.5598\n",
      "Epoch 26/30\n",
      "50000/50000 [==============================] - 24s 472us/step - loss: 0.8840 - acc: 0.6829 - val_loss: 1.2815 - val_acc: 0.5651\n",
      "Epoch 27/30\n",
      "50000/50000 [==============================] - 23s 461us/step - loss: 0.8684 - acc: 0.6902 - val_loss: 1.2753 - val_acc: 0.5652\n",
      "Epoch 28/30\n",
      "50000/50000 [==============================] - 24s 488us/step - loss: 0.8503 - acc: 0.6953 - val_loss: 1.2833 - val_acc: 0.5682\n",
      "Epoch 29/30\n",
      "50000/50000 [==============================] - 25s 507us/step - loss: 0.8331 - acc: 0.7028 - val_loss: 1.2967 - val_acc: 0.5669\n",
      "Epoch 30/30\n",
      "50000/50000 [==============================] - 28s 552us/step - loss: 0.8228 - acc: 0.7043 - val_loss: 1.2813 - val_acc: 0.5673\n"
     ]
    }
   ],
   "source": [
    "results = {}\n",
    "\"\"\"Code Here\n",
    "撰寫你的訓練流程並將結果用 dictionary 紀錄\n",
    "\"\"\"\n",
    "model = build_mlp(input_shape=x_train.shape[1:],l1_ratio=l1_ratio, l2_ratio=l2_ratio, drp_ratio=drp_ratio)\n",
    "optimizer= keras.optimizers.SGD(lr=LEARNING_RATE, nesterov=True, momentum=MOMENTUM)\n",
    "model.compile(loss='categorical_crossentropy', metrics=['accuracy'],optimizer=optimizer)\n",
    "\n",
    "model.fit(x_train, y_train,\n",
    "         epochs=EPOCHS,\n",
    "         batch_size=BATCH_SIZE,\n",
    "         validation_data=(x_test,y_test),\n",
    "         shuffle=True)\n",
    "\n",
    "train_loss = model.history.history[\"loss\"]\n",
    "valid_loss = model.history.history[\"val_loss\"]\n",
    "train_acc = model.history.history[\"acc\"]\n",
    "valid_acc = model.history.history[\"val_acc\"]"
   ]
  },
  {
   "cell_type": "code",
   "execution_count": 17,
   "metadata": {},
   "outputs": [
    {
     "data": {
      "image/png": "[encoded data removed]",
      "text/plain": [
       "<Figure size 432x288 with 1 Axes>"
      ]
     },
     "metadata": {
      "needs_background": "light"
     },
     "output_type": "display_data"
    },
    {
     "data": {
      "image/png": "[encoded data removed]",
      "text/plain": [
       "<Figure size 432x288 with 1 Axes>"
      ]
     },
     "metadata": {
      "needs_background": "light"
     },
     "output_type": "display_data"
    }
   ],
   "source": [
    "import matplotlib.pyplot as plt\n",
    "%matplotlib inline\n",
    "\"\"\"Code Here\n",
    "將結果繪出\n",
    "\"\"\"\n",
    "plt.plot(range(len(train_loss)), train_loss, label=\"train loss\")\n",
    "plt.plot(range(len(valid_loss)), valid_loss, label=\"valid loss\")\n",
    "plt.legend()\n",
    "plt.title(\"Loss\")\n",
    "plt.show()\n",
    "\n",
    "plt.plot(range(len(train_acc)), train_acc, label=\"train accuracy\")\n",
    "plt.plot(range(len(valid_acc)), valid_acc, label=\"valid accuracy\")\n",
    "plt.legend()\n",
    "plt.title(\"Accuracy\")\n",
    "plt.show()"
   ]
  },
  {
   "cell_type": "code",
   "execution_count": null,
   "metadata": {},
   "outputs": [],
   "source": []
  }
 ],
 "metadata": {
  "kernelspec": {
   "display_name": "Python 3",
   "language": "python",
   "name": "python3"
  },
  "language_info": {
   "codemirror_mode": {
    "name": "ipython",
    "version": 3
   },
   "file_extension": ".py",
   "mimetype": "text/x-python",
   "name": "python",
   "nbconvert_exporter": "python",
   "pygments_lexer": "ipython3",
   "version": "3.7.3"
  }
 },
 "nbformat": 4,
 "nbformat_minor": 2
}
