{
 "cells": [
  {
   "cell_type": "markdown",
   "metadata": {},
   "source": [
    "# 作業目標:\n",
    "    了解 Convolution 卷積的組成"
   ]
  },
  {
   "cell_type": "markdown",
   "metadata": {},
   "source": [
    "# 作業重點:\n",
    "    修改 a_slice_prev, 檢查 Z 的輸出"
   ]
  },
  {
   "cell_type": "code",
   "execution_count": 1,
   "metadata": {},
   "outputs": [],
   "source": [
    "import numpy as np"
   ]
  },
  {
   "cell_type": "code",
   "execution_count": 2,
   "metadata": {},
   "outputs": [],
   "source": [
    "# GRADED FUNCTION: conv_single_step\n",
    "def conv_single_step(a_slice_prev, W, b):\n",
    "    \"\"\"\n",
    "    定義一層 Kernel (內核), 使用的參數說明如下\n",
    "    Arguments:\n",
    "        a_slice_prev -- 輸入資料的維度\n",
    "        W -- 權重, 被使用在 a_slice_prev\n",
    "        b -- 偏差參數 \n",
    "    Returns:\n",
    "        Z -- 滑動窗口（W，b）卷積在前一個 feature map 上的結果\n",
    "    \"\"\"\n",
    "\n",
    "    # 定義一個元素介於 a_slice and W\n",
    "    s = a_slice_prev * W\n",
    "    # 加總所有的 \"s\" 並指定給Z.\n",
    "    Z = np.sum(s)\n",
    "    # Add bias b to Z. 這是 float() 函數,\n",
    "    Z = float(Z + b)\n",
    "\n",
    "    return Z"
   ]
  },
  {
   "cell_type": "code",
   "execution_count": 9,
   "metadata": {},
   "outputs": [
    {
     "name": "stdout",
     "output_type": "stream",
     "text": [
      "2.7198994302808597\n"
     ]
    }
   ],
   "source": [
    "'''\n",
    "\n",
    "np.random.seed(1)\n",
    "#定義一個 axaxd 的 feature map\n",
    "a_slice_prev = \n",
    "W = \n",
    "b = np.random.randn(1, 1, 1)\n",
    "\n",
    "#取得計算後,卷積矩陣的值\n",
    "Z = conv_single_step(a_slice_prev, W, b)\n",
    "print(\"Z =\", Z)\n",
    "'''\n",
    "a_slice_prev = np.random.randn(4,4,3)\n",
    "W = np.random.randn(4,4,3)\n",
    "b =np.random.randn(1,1,1)\n",
    "\n",
    "Z=conv_single_step(a_slice_prev,W,b)\n",
    "\n",
    "print(Z)"
   ]
  },
  {
   "cell_type": "code",
   "execution_count": 10,
   "metadata": {},
   "outputs": [
    {
     "name": "stdout",
     "output_type": "stream",
     "text": [
      "[[[ 1.17893565  0.46997871  0.33352201]\n",
      "  [ 1.59682108  0.99527317 -0.23848402]\n",
      "  [ 0.77136998 -0.52897555  0.68374128]\n",
      "  [-0.04533539 -0.48016312 -0.18353892]]\n",
      "\n",
      " [[-0.00500383  0.74638675 -0.53563205]\n",
      "  [ 0.35118725 -1.52204449  1.57799465]\n",
      "  [-1.17786527  0.7133619   0.88933033]\n",
      "  [ 0.19240244  0.04106583  0.89959012]]\n",
      "\n",
      " [[ 0.14542388  0.56704867  1.25745525]\n",
      "  [-1.15947855 -0.93723416 -1.6543415 ]\n",
      "  [-1.85390615  0.22080181  0.79732721]\n",
      "  [-0.95886333 -0.50396656  1.05998597]]\n",
      "\n",
      " [[ 0.92375154 -0.73495987  0.20775718]\n",
      "  [-0.73350541  0.29125267 -1.68256896]\n",
      "  [ 0.01925194 -0.06590726  0.34002132]\n",
      "  [-0.42768083 -1.56039106 -0.95596842]]]\n"
     ]
    }
   ],
   "source": [
    "print(a_slice_prev)"
   ]
  },
  {
   "cell_type": "code",
   "execution_count": 11,
   "metadata": {},
   "outputs": [
    {
     "name": "stdout",
     "output_type": "stream",
     "text": [
      "[[[ 2.06231485  0.36981424 -0.16373692]\n",
      "  [-1.43792659 -1.16880087 -0.33177397]\n",
      "  [ 0.28174412 -0.271031    1.0020941 ]\n",
      "  [-0.65576403 -0.25074402 -0.70638473]]\n",
      "\n",
      " [[-2.3095804  -1.36094028 -0.34278103]\n",
      "  [ 1.55267329 -0.46076079  0.01048778]\n",
      "  [-0.46443593  0.55122272 -0.51900428]\n",
      "  [ 1.26342257 -1.70222225  0.62717514]]\n",
      "\n",
      " [[ 1.20894747 -0.3734142   1.19868535]\n",
      "  [-2.01712643 -0.28114203 -0.02327102]\n",
      "  [-0.03982586  0.99700094 -0.31957565]\n",
      "  [-0.03110571  1.48885858 -0.37352543]]\n",
      "\n",
      " [[ 0.45172525  0.81817722  1.69305646]\n",
      "  [ 0.6118547   0.65518691 -0.19850208]\n",
      "  [-0.35005887  0.1650921   0.22028617]\n",
      "  [-0.48622108  2.59988512 -0.20685133]]]\n"
     ]
    }
   ],
   "source": [
    "print(W)"
   ]
  },
  {
   "cell_type": "code",
   "execution_count": 12,
   "metadata": {},
   "outputs": [
    {
     "name": "stdout",
     "output_type": "stream",
     "text": [
      "[[[0.88065599]]]\n"
     ]
    }
   ],
   "source": [
    "print(b)"
   ]
  },
  {
   "cell_type": "code",
   "execution_count": null,
   "metadata": {},
   "outputs": [],
   "source": []
  }
 ],
 "metadata": {
  "kernelspec": {
   "display_name": "Python 3",
   "language": "python",
   "name": "python3"
  },
  "language_info": {
   "codemirror_mode": {
    "name": "ipython",
    "version": 3
   },
   "file_extension": ".py",
   "mimetype": "text/x-python",
   "name": "python",
   "nbconvert_exporter": "python",
   "pygments_lexer": "ipython3",
   "version": "3.7.3"
  }
 },
 "nbformat": 4,
 "nbformat_minor": 2
}
