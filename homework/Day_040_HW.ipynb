{
 "cells": [
  {
   "cell_type": "markdown",
   "metadata": {},
   "source": [
    "## [作業重點]\n",
    "使用 Sklearn 中的 Lasso, Ridge 模型，來訓練各種資料集，務必了解送進去模型訓練的**資料型態**為何，也請了解模型中各項參數的意義。\n",
    "\n",
    "機器學習的模型非常多種，但要訓練的資料多半有固定的格式，確保你了解訓練資料的格式為何，這樣在應用新模型時，就能夠最快的上手開始訓練！"
   ]
  },
  {
   "cell_type": "markdown",
   "metadata": {},
   "source": [
    "## 練習時間\n",
    "試著使用 sklearn datasets 的其他資料集 (boston, ...)，來訓練自己的線性迴歸模型，並加上適當的正則話來觀察訓練情形。"
   ]
  },
  {
   "cell_type": "code",
   "execution_count": 37,
   "metadata": {},
   "outputs": [],
   "source": [
    "from sklearn import datasets\n",
    "from sklearn.model_selection import train_test_split, cross_val_score\n",
    "from sklearn import linear_model\n",
    "from sklearn.metrics import mean_squared_error"
   ]
  },
  {
   "cell_type": "markdown",
   "metadata": {},
   "source": [
    "### Linear"
   ]
  },
  {
   "cell_type": "code",
   "execution_count": 76,
   "metadata": {},
   "outputs": [
    {
     "name": "stdout",
     "output_type": "stream",
     "text": [
      "MSE: 17.366982675851535\n",
      "[-1.13822212e-01  4.16413589e-02  2.41351986e-02  2.93012066e+00\n",
      " -1.69286803e+01  3.91771428e+00  2.77145877e-04 -1.38768780e+00\n",
      "  2.92926445e-01 -1.16911327e-02 -9.83554051e-01  9.12630318e-03\n",
      " -5.28440632e-01]\n"
     ]
    },
    {
     "data": {
      "text/plain": [
       "0.7354886697292493"
      ]
     },
     "execution_count": 76,
     "metadata": {},
     "output_type": "execute_result"
    }
   ],
   "source": [
    "#load data\n",
    "data_boston =datasets.load_boston()\n",
    "data_boston\n",
    "#將data分成train和test\n",
    "X_train, X_test, y_train, y_test = train_test_split(data_boston.data,data_boston.target, test_size=0.2,random_state =35)\n",
    "#建立模型\n",
    "linear = linear_model.LinearRegression()\n",
    "#訓練模型\n",
    "linear.fit(X_train,y_train)\n",
    "#預測\n",
    "pred = linear.predict(X_test)\n",
    "#MSE\n",
    "MSE = mean_squared_error(pred, y_test)\n",
    "print (\"MSE:\",  MSE)\n",
    "print (linear.coef_)\n",
    "cross_val_score(LinearRegression(),X_train, y_train,cv=5).mean()"
   ]
  },
  {
   "cell_type": "markdown",
   "metadata": {},
   "source": [
    "### Lasso"
   ]
  },
  {
   "cell_type": "code",
   "execution_count": 77,
   "metadata": {},
   "outputs": [
    {
     "name": "stdout",
     "output_type": "stream",
     "text": [
      "MSE: 19.20054180749393\n"
     ]
    }
   ],
   "source": [
    "#load data\n",
    "data_boston =datasets.load_boston()\n",
    "data_boston\n",
    "#將data分成train和test\n",
    "X_train, X_test, y_train, y_test = train_test_split(data_boston.data,data_boston.target, test_size=0.2,random_state =35)\n",
    "#建立模型\n",
    "lasso = linear_model.Lasso(alpha=0.5)\n",
    "#訓練模型\n",
    "lasso.fit(X_train,y_train)\n",
    "#預測\n",
    "pred = lasso.predict(X_test)\n",
    "#MSE\n",
    "MSE = mean_squared_error(pred, y_test)\n",
    "print (\"MSE:\",  MSE)"
   ]
  },
  {
   "cell_type": "code",
   "execution_count": 41,
   "metadata": {},
   "outputs": [
    {
     "name": "stdout",
     "output_type": "stream",
     "text": [
      "[-0.09827212  0.05153243 -0.03926852  0.78567961 -0.          3.6772729\n",
      " -0.01022602 -1.1252119   0.25468109 -0.01474109 -0.77803806  0.0085509\n",
      " -0.55354474]\n"
     ]
    },
    {
     "data": {
      "text/plain": [
       "0.7093881453764702"
      ]
     },
     "execution_count": 41,
     "metadata": {},
     "output_type": "execute_result"
    }
   ],
   "source": [
    "#Lasso參數\n",
    "print (lasso.coef_)\n",
    "cross_val_score(Lasso(alpha=0.1),X_train, y_train,cv=5).mean()"
   ]
  },
  {
   "cell_type": "markdown",
   "metadata": {},
   "source": [
    "### Ridge"
   ]
  },
  {
   "cell_type": "code",
   "execution_count": 72,
   "metadata": {},
   "outputs": [
    {
     "name": "stdout",
     "output_type": "stream",
     "text": [
      "MSE: 17.58052027487079\n",
      "[-1.11485943e-01  4.24693490e-02  3.40300013e-03  2.89611519e+00\n",
      " -1.19880849e+01  3.95883958e+00 -4.22400523e-03 -1.31416348e+00\n",
      "  2.78946940e-01 -1.20479814e-02 -9.29195794e-01  9.17293001e-03\n",
      " -5.32107982e-01]\n"
     ]
    },
    {
     "data": {
      "text/plain": [
       "0.7348621800818249"
      ]
     },
     "execution_count": 72,
     "metadata": {},
     "output_type": "execute_result"
    }
   ],
   "source": [
    "data_wine =datasets.load_boston()\n",
    "#split data\n",
    "X_train, X_test,y_train,y_test = train_test_split(data_wine.data,data_wine.target, test_size=0.2,random_state=35)\n",
    "#select model\n",
    "ridge =linear_model.Ridge(alpha=0.5)\n",
    "#train model\n",
    "ridge.fit(X_train,y_train)\n",
    "#pred\n",
    "pred = ridge.predict(X_test)\n",
    "#coeff\n",
    "MSE = mean_squared_error(pred,y_test)\n",
    "print (\"MSE:\",MSE)\n",
    "print (ridge.coef_)\n",
    "cross_val_score(ridge, X_train, y_train,cv=5).mean()"
   ]
  },
  {
   "cell_type": "markdown",
   "metadata": {},
   "source": []
  }
 ],
 "metadata": {
  "kernelspec": {
   "display_name": "Python 3",
   "language": "python",
   "name": "python3"
  },
  "language_info": {
   "codemirror_mode": {
    "name": "ipython",
    "version": 3
   },
   "file_extension": ".py",
   "mimetype": "text/x-python",
   "name": "python",
   "nbconvert_exporter": "python",
   "pygments_lexer": "ipython3",
   "version": "3.6.5"
  }
 },
 "nbformat": 4,
 "nbformat_minor": 2
}
