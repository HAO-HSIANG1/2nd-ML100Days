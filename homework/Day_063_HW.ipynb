{
 "cells": [
  {
   "cell_type": "markdown",
   "metadata": {},
   "source": [
    "# 作業\n",
    "* 在精簡深度學習的方式上 : 卷積類神經 (CNN) 採用像素遠近，而遞歸類神經 (RNN) 採用著則是時間遠近\n",
    "* 那麼，既然有著類似的設計精神，兩者是否有可能互換應用呢?"
   ]
  },
  {
   "cell_type": "markdown",
   "metadata": {},
   "source": [
    "#### 我認為可以。\n",
    "#### 1.CNN換成RNN，像自駕車在行走時看到的影像，會隨時間變化，而此變化可能有助於預測下一個會遇到的場景，\n",
    "####  例如:前方的車左邊方向燈亮，那麼3秒內此車往左的機率就很高。\n",
    "##### 2.RNN換成CNN，如果把一段時間遠近的資料結合起來，以一個像素來表示，或許就可以將RNN換成CNN。"
   ]
  },
  {
   "cell_type": "markdown",
   "metadata": {},
   "source": [
    "範例解答:\n",
    "\n",
    "雖然維度並不相同 (圖像-2維, 時序問題-1維)，但實務上，兩者確實是存在互換空間的\n",
    "\n",
    "時序問題使用CNN\n",
    "\n",
    "CNN 既然可以採用 2 維的卷積方式，當然也存在對應的 1 維卷積 (稱為 1d-CNN)\n",
    "但是 1d-CNN 就不適合再拿去做 2 維的圖像辨識了，而是專注抓取序列中重複出現的關鍵片段\n",
    "常與進階版的 RNN-長短期記憶網路(LSTM) 搭配使用，用來預測股市等時序型問題\n",
    "\n",
    "圖像類問題使用RNN\n",
    "\n",
    "如果影像某個軸向有連續的現象，則RNN也可以處理這類較狹義的圖像問題"
   ]
  },
  {
   "cell_type": "code",
   "execution_count": null,
   "metadata": {},
   "outputs": [],
   "source": []
  }
 ],
 "metadata": {
  "kernelspec": {
   "display_name": "Python 3",
   "language": "python",
   "name": "python3"
  },
  "language_info": {
   "codemirror_mode": {
    "name": "ipython",
    "version": 3
   },
   "file_extension": ".py",
   "mimetype": "text/x-python",
   "name": "python",
   "nbconvert_exporter": "python",
   "pygments_lexer": "ipython3",
   "version": "3.7.3"
  }
 },
 "nbformat": 4,
 "nbformat_minor": 2
}
